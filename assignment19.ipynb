{
 "cells": [
  {
   "cell_type": "markdown",
   "metadata": {},
   "source": [
    "# Q.1 - Create a numpy array with 10 elements of the shape(10,1) using np.random and find out the mean of the elements using basic numpy functions.\n"
   ]
  },
  {
   "cell_type": "code",
   "execution_count": 3,
   "metadata": {},
   "outputs": [
    {
     "name": "stdout",
     "output_type": "stream",
     "text": [
      "0.5685016166004839\n"
     ]
    }
   ],
   "source": [
    "import numpy as np\n",
    "array=np.random.rand(10,1)\n",
    "print(array.mean())"
   ]
  },
  {
   "cell_type": "markdown",
   "metadata": {},
   "source": [
    "#  Q.2 - Create a numpy array with 20 elements of the shape(20,1) using np.random find the variance and standard deviation of the elements."
   ]
  },
  {
   "cell_type": "code",
   "execution_count": 5,
   "metadata": {},
   "outputs": [
    {
     "name": "stdout",
     "output_type": "stream",
     "text": [
      "0.06405794175978133\n",
      "0.25309670436372994\n"
     ]
    }
   ],
   "source": [
    "import numpy as np\n",
    "array=np.random.rand(20,1)\n",
    "print(array.var())\n",
    "print(array.std())"
   ]
  },
  {
   "cell_type": "markdown",
   "metadata": {},
   "source": [
    "# Q.3 - Create a numpy array A of shape(10,20) and B of shape (20,25) using np.random. Print the matrix which is the matrix multiplication of A and B. The shape of the new matrix should be (10,25). Using basic numpy math functions only find the sum of all the elements of the new matrix."
   ]
  },
  {
   "cell_type": "code",
   "execution_count": 6,
   "metadata": {},
   "outputs": [
    {
     "name": "stdout",
     "output_type": "stream",
     "text": [
      "The multiplication of array A and B is arrayC  [[4.77172499 3.98006773 5.21382405 5.07833122 4.15200545 6.19205091\n",
      "  4.78824699 4.28294697 5.24927417 4.61962836 4.706055   4.05880677\n",
      "  4.88663273 4.68440896 4.36144224 5.46290133 4.79275811 4.25144714\n",
      "  5.51540877 5.38949409 5.42915068 3.88333948 5.50593338 5.31865927\n",
      "  5.34499145]\n",
      " [4.91344611 3.22691143 4.28980703 5.03343662 3.97498823 5.71401743\n",
      "  4.21070146 3.61449065 4.76347411 4.32734826 3.81845423 4.31337063\n",
      "  4.30004322 4.47423941 3.82067076 5.70029986 4.47093155 3.73876189\n",
      "  5.08356898 4.7781057  5.01208513 3.2592059  4.94433433 5.59849927\n",
      "  4.75820444]\n",
      " [3.66426737 2.62719667 3.85812463 3.58342931 3.01830838 4.28623544\n",
      "  2.71900261 3.67558257 4.0381622  3.88182846 3.09297009 2.99915351\n",
      "  3.4620193  3.49104083 2.8690939  4.74706048 3.25674996 3.23544261\n",
      "  3.83680489 4.00686434 4.21474456 2.47394672 4.01725309 4.39141823\n",
      "  3.83486138]\n",
      " [6.1229666  3.38865789 5.93514774 5.42931603 5.13002889 6.56455024\n",
      "  4.51924454 5.50392623 6.32557282 5.90147262 4.58801846 4.97433252\n",
      "  5.24139446 5.10725787 4.58730321 7.01620435 5.83814444 5.19342051\n",
      "  6.47964859 6.47349581 6.46006535 3.79878609 6.28065792 7.03689152\n",
      "  6.23676091]\n",
      " [4.19752439 3.57761915 3.99050902 4.20463296 4.15440335 5.51912594\n",
      "  4.35988005 3.72393264 4.52651801 4.63232683 3.84856756 4.17095833\n",
      "  3.77032274 4.85907594 4.28249109 5.51979748 4.00151993 3.61523279\n",
      "  4.5858427  4.0873825  4.27816174 3.34820715 4.2377639  4.68100665\n",
      "  4.71293927]\n",
      " [4.92935508 3.36888398 5.16070469 4.91551695 3.78807156 4.4302128\n",
      "  3.66326739 3.95760629 4.99536947 4.1597259  4.03206028 3.59771529\n",
      "  4.34037084 3.65312492 3.21788408 5.76988409 4.01150418 3.96361309\n",
      "  5.55308993 4.91964713 4.72445047 3.29176756 4.7572126  4.64128119\n",
      "  4.23747759]\n",
      " [5.7270228  3.84446415 5.99814102 5.44374235 4.62784771 6.22878943\n",
      "  4.63401704 4.37678319 5.69778703 5.13609025 4.31675507 4.39790988\n",
      "  4.43922872 4.51487328 4.55980086 6.74020258 5.01066311 4.7401737\n",
      "  6.1427957  5.1165991  5.1434213  4.16521934 6.34714317 5.77042826\n",
      "  5.21037988]\n",
      " [4.81206746 3.69844826 5.42233824 5.82314043 4.6851649  4.9212463\n",
      "  4.39643801 4.93890584 5.75432421 4.82931199 5.02252415 3.79758938\n",
      "  4.41038884 4.6145761  4.06996822 6.25376317 4.66862588 4.34681539\n",
      "  5.4868046  5.61107936 6.25069613 3.99487786 5.4369     5.08989125\n",
      "  5.19914008]\n",
      " [4.2363751  3.20005061 4.72707264 5.09807586 4.39235419 5.65646388\n",
      "  4.1646534  4.05572787 4.7590971  4.4466489  4.53563592 3.73495464\n",
      "  4.41145068 4.65817977 3.97014078 5.55614017 4.49098639 4.30388658\n",
      "  5.19045922 5.28728326 5.02859135 3.21812924 4.80021761 5.04038544\n",
      "  5.34595458]\n",
      " [6.22673312 4.23026347 6.81637956 6.11323936 4.37878717 7.13427869\n",
      "  5.28666636 4.44424145 6.26113101 5.64654454 4.77899259 5.77393888\n",
      "  5.97562235 5.21058159 5.3335417  6.54807138 5.62726608 5.4905792\n",
      "  6.73982976 5.39007865 5.75973202 4.60131799 6.56578806 6.84220799\n",
      "  6.42016413]]\n",
      "The sum of arrayC elements is  1188.2094907278092\n"
     ]
    }
   ],
   "source": [
    "import numpy as np\n",
    "arrayA=np.random.rand(10,20)\n",
    "arrayB=np.random.rand(20,25)\n",
    "arrayC=np.matmul(arrayA,arrayB)\n",
    "print(\"The multiplication of array A and B is arrayC \",arrayC)\n",
    "print(\"The sum of arrayC elements is \",arrayC.sum())"
   ]
  },
  {
   "cell_type": "markdown",
   "metadata": {},
   "source": [
    "# Q.4 - Create a numpy array A of shape(10,1).Using the basic operations of the numpy array generate an array of shape(10,1) such that each element is the following function applied on each element of A. "
   ]
  },
  {
   "cell_type": "code",
   "execution_count": 7,
   "metadata": {},
   "outputs": [
    {
     "name": "stdout",
     "output_type": "stream",
     "text": [
      "[[0.94528811]\n",
      " [0.70990005]\n",
      " [0.43953786]\n",
      " [0.81968611]\n",
      " [0.85727222]\n",
      " [0.02134761]\n",
      " [0.65301071]\n",
      " [0.25520448]\n",
      " [0.2274761 ]\n",
      " [0.10064449]]\n",
      "[[0.72016659]\n",
      " [0.67037907]\n",
      " [0.60814891]\n",
      " [0.6941697 ]\n",
      " [0.70209043]\n",
      " [0.5053367 ]\n",
      " [0.6576886 ]\n",
      " [0.56345708]\n",
      " [0.55662506]\n",
      " [0.5251399 ]]\n"
     ]
    }
   ],
   "source": [
    "import numpy as np\n",
    "import math\n",
    "A=np.random.rand(10,1)\n",
    "print(A)\n",
    "def func(x):\n",
    "    return(1/(1 + np.exp(-x)))\n",
    "result=np.apply_along_axis(func, 0, A)\n",
    "print(result)"
   ]
  },
  {
   "cell_type": "code",
   "execution_count": null,
   "metadata": {},
   "outputs": [],
   "source": []
  }
 ],
 "metadata": {
  "kernelspec": {
   "display_name": "Python 3",
   "language": "python",
   "name": "python3"
  },
  "language_info": {
   "codemirror_mode": {
    "name": "ipython",
    "version": 3
   },
   "file_extension": ".py",
   "mimetype": "text/x-python",
   "name": "python",
   "nbconvert_exporter": "python",
   "pygments_lexer": "ipython3",
   "version": "3.6.5"
  }
 },
 "nbformat": 4,
 "nbformat_minor": 2
}
